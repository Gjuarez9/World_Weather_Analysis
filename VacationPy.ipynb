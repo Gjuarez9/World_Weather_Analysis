{
 "cells": [
  {
   "cell_type": "code",
   "execution_count": 10,
   "id": "b72c231e",
   "metadata": {},
   "outputs": [],
   "source": [
    "# Import the dependencies.\n",
    "import pandas as pd\n",
    "import gmaps\n",
    "import requests\n",
    "# Import the API key.\n",
    "from config import g_key"
   ]
  },
  {
   "cell_type": "code",
   "execution_count": 11,
   "id": "fb90649a",
   "metadata": {},
   "outputs": [
    {
     "data": {
      "text/html": [
       "<div>\n",
       "<style scoped>\n",
       "    .dataframe tbody tr th:only-of-type {\n",
       "        vertical-align: middle;\n",
       "    }\n",
       "\n",
       "    .dataframe tbody tr th {\n",
       "        vertical-align: top;\n",
       "    }\n",
       "\n",
       "    .dataframe thead th {\n",
       "        text-align: right;\n",
       "    }\n",
       "</style>\n",
       "<table border=\"1\" class=\"dataframe\">\n",
       "  <thead>\n",
       "    <tr style=\"text-align: right;\">\n",
       "      <th></th>\n",
       "      <th>City_ID</th>\n",
       "      <th>City</th>\n",
       "      <th>Country</th>\n",
       "      <th>Date</th>\n",
       "      <th>Lat</th>\n",
       "      <th>Lng</th>\n",
       "      <th>Max Temp</th>\n",
       "      <th>Humidity</th>\n",
       "      <th>Cloudiness</th>\n",
       "      <th>Wind Speed</th>\n",
       "    </tr>\n",
       "  </thead>\n",
       "  <tbody>\n",
       "    <tr>\n",
       "      <th>0</th>\n",
       "      <td>0</td>\n",
       "      <td>Parainen</td>\n",
       "      <td>FI</td>\n",
       "      <td>2022-07-23 04:54:42</td>\n",
       "      <td>60.3067</td>\n",
       "      <td>22.3010</td>\n",
       "      <td>68.45</td>\n",
       "      <td>91</td>\n",
       "      <td>71</td>\n",
       "      <td>8.43</td>\n",
       "    </tr>\n",
       "    <tr>\n",
       "      <th>1</th>\n",
       "      <td>1</td>\n",
       "      <td>Castro</td>\n",
       "      <td>BR</td>\n",
       "      <td>2022-07-23 04:54:42</td>\n",
       "      <td>-24.7911</td>\n",
       "      <td>-50.0119</td>\n",
       "      <td>55.83</td>\n",
       "      <td>68</td>\n",
       "      <td>32</td>\n",
       "      <td>2.39</td>\n",
       "    </tr>\n",
       "    <tr>\n",
       "      <th>2</th>\n",
       "      <td>2</td>\n",
       "      <td>Avarua</td>\n",
       "      <td>CK</td>\n",
       "      <td>2022-07-23 04:54:42</td>\n",
       "      <td>-21.2078</td>\n",
       "      <td>-159.7750</td>\n",
       "      <td>75.25</td>\n",
       "      <td>69</td>\n",
       "      <td>20</td>\n",
       "      <td>9.22</td>\n",
       "    </tr>\n",
       "    <tr>\n",
       "      <th>3</th>\n",
       "      <td>3</td>\n",
       "      <td>Rikitea</td>\n",
       "      <td>PF</td>\n",
       "      <td>2022-07-23 04:50:32</td>\n",
       "      <td>-23.1203</td>\n",
       "      <td>-134.9692</td>\n",
       "      <td>72.93</td>\n",
       "      <td>69</td>\n",
       "      <td>10</td>\n",
       "      <td>9.51</td>\n",
       "    </tr>\n",
       "    <tr>\n",
       "      <th>4</th>\n",
       "      <td>4</td>\n",
       "      <td>George</td>\n",
       "      <td>ZA</td>\n",
       "      <td>2022-07-23 04:54:43</td>\n",
       "      <td>-33.9630</td>\n",
       "      <td>22.4617</td>\n",
       "      <td>51.35</td>\n",
       "      <td>93</td>\n",
       "      <td>75</td>\n",
       "      <td>11.50</td>\n",
       "    </tr>\n",
       "  </tbody>\n",
       "</table>\n",
       "</div>"
      ],
      "text/plain": [
       "   City_ID      City Country                 Date      Lat       Lng  \\\n",
       "0        0  Parainen      FI  2022-07-23 04:54:42  60.3067   22.3010   \n",
       "1        1    Castro      BR  2022-07-23 04:54:42 -24.7911  -50.0119   \n",
       "2        2    Avarua      CK  2022-07-23 04:54:42 -21.2078 -159.7750   \n",
       "3        3   Rikitea      PF  2022-07-23 04:50:32 -23.1203 -134.9692   \n",
       "4        4    George      ZA  2022-07-23 04:54:43 -33.9630   22.4617   \n",
       "\n",
       "   Max Temp  Humidity  Cloudiness  Wind Speed  \n",
       "0     68.45        91          71        8.43  \n",
       "1     55.83        68          32        2.39  \n",
       "2     75.25        69          20        9.22  \n",
       "3     72.93        69          10        9.51  \n",
       "4     51.35        93          75       11.50  "
      ]
     },
     "execution_count": 11,
     "metadata": {},
     "output_type": "execute_result"
    }
   ],
   "source": [
    "# Store the CSV you saved created in part one into a DataFrame.\n",
    "city_data_df = pd.read_csv(\"weather_data/cities.csv\")\n",
    "city_data_df.head()"
   ]
  },
  {
   "cell_type": "code",
   "execution_count": 12,
   "id": "5b3da854",
   "metadata": {},
   "outputs": [
    {
     "data": {
      "text/plain": [
       "City_ID         int64\n",
       "City           object\n",
       "Country        object\n",
       "Date           object\n",
       "Lat           float64\n",
       "Lng           float64\n",
       "Max Temp      float64\n",
       "Humidity        int64\n",
       "Cloudiness      int64\n",
       "Wind Speed    float64\n",
       "dtype: object"
      ]
     },
     "execution_count": 12,
     "metadata": {},
     "output_type": "execute_result"
    }
   ],
   "source": [
    "city_data_df.dtypes"
   ]
  },
  {
   "cell_type": "code",
   "execution_count": 13,
   "id": "f60f5bfa",
   "metadata": {},
   "outputs": [],
   "source": [
    "# Configure gmaps to use your Google API key.\n",
    "gmaps.configure(api_key=g_key)"
   ]
  },
  {
   "cell_type": "code",
   "execution_count": 14,
   "id": "1294cd07",
   "metadata": {},
   "outputs": [],
   "source": [
    "# Get the maximum temperature.\n",
    "max_temp = city_data_df[\"Max Temp\"]\n",
    "temps = []\n",
    "for temp in max_temp:\n",
    "    temps.append(max(temp, 0))"
   ]
  },
  {
   "cell_type": "code",
   "execution_count": 24,
   "id": "5c01972d",
   "metadata": {},
   "outputs": [
    {
     "data": {
      "application/vnd.jupyter.widget-view+json": {
       "model_id": "880c1e07b7c54bd6afb6b881aec6217c",
       "version_major": 2,
       "version_minor": 0
      },
      "text/plain": [
       "Figure(layout=FigureLayout(height='420px'))"
      ]
     },
     "metadata": {},
     "output_type": "display_data"
    }
   ],
   "source": [
    "# Heatmap of temperature\n",
    "# Get the latitude and longitude.\n",
    "locations = city_data_df[[\"Lat\", \"Lng\"]]\n",
    "# Get the maximum temperature.\n",
    "max_temp = city_data_df[\"Max Temp\"]\n",
    "# Assign the figure variable.\n",
    "fig = gmaps.figure()\n",
    "# Assign the heatmap variable.\n",
    "# heat_layer = gmaps.heatmap_layer(locations, weights=temps)\n",
    "# heat_layer = gmaps.heatmap_layer(locations, weights=[max(temp, 0) for temp in max_temp])\n",
    "heat_layer = gmaps.heatmap_layer(locations, weights=[max(temp, 0) for temp in max_temp], dissipating=False, max_intensity=300, point_radius=4)\n",
    "# Add the heatmap layer.\n",
    "fig.add_layer(heat_layer)\n",
    "# Call the figure to plot the data.\n",
    "fig"
   ]
  },
  {
   "cell_type": "code",
   "execution_count": 18,
   "id": "785c3023",
   "metadata": {},
   "outputs": [],
   "source": [
    "fig = gmaps.figure(center=(30.0, 31.0), zoom_level=1.5)"
   ]
  },
  {
   "cell_type": "code",
   "execution_count": 25,
   "id": "172524c1",
   "metadata": {},
   "outputs": [
    {
     "data": {
      "application/vnd.jupyter.widget-view+json": {
       "model_id": "a3d691aed93d4022bbd4160ba5643ec1",
       "version_major": 2,
       "version_minor": 0
      },
      "text/plain": [
       "Figure(layout=FigureLayout(height='420px'))"
      ]
     },
     "metadata": {},
     "output_type": "display_data"
    }
   ],
   "source": [
    "# Heatmap of percent humidity\n",
    "locations = city_data_df[[\"Lat\", \"Lng\"]]\n",
    "humidity = city_data_df[\"Humidity\"]\n",
    "fig = gmaps.figure(center=(30.0, 31.0), zoom_level=1.5)\n",
    "heat_layer = gmaps.heatmap_layer(locations, weights=humidity, dissipating=False, max_intensity=300, point_radius=4)\n",
    "\n",
    "fig.add_layer(heat_layer)\n",
    "# Call the figure to plot the data.\n",
    "fig"
   ]
  },
  {
   "cell_type": "code",
   "execution_count": 26,
   "id": "3a0b8df4",
   "metadata": {},
   "outputs": [
    {
     "data": {
      "application/vnd.jupyter.widget-view+json": {
       "model_id": "f6ff6743eddd438cbdea22d71414ca3f",
       "version_major": 2,
       "version_minor": 0
      },
      "text/plain": [
       "Figure(layout=FigureLayout(height='420px'))"
      ]
     },
     "metadata": {},
     "output_type": "display_data"
    }
   ],
   "source": [
    "# Heatmap of percent cloudiness\n",
    "locations = city_data_df[[\"Lat\", \"Lng\"]]\n",
    "clouds = city_data_df[\"Cloudiness\"]\n",
    "fig = gmaps.figure(center=(30.0, 31.0), zoom_level=1.5)\n",
    "heat_layer = gmaps.heatmap_layer(locations, weights=clouds, dissipating=False, max_intensity=300, point_radius=4)\n",
    "\n",
    "fig.add_layer(heat_layer)\n",
    "# Call the figure to plot the data.\n",
    "\n",
    "fig"
   ]
  },
  {
   "cell_type": "code",
   "execution_count": 27,
   "id": "f792fe64",
   "metadata": {},
   "outputs": [
    {
     "data": {
      "application/vnd.jupyter.widget-view+json": {
       "model_id": "84280619359a4438984eb8bec9b36e53",
       "version_major": 2,
       "version_minor": 0
      },
      "text/plain": [
       "Figure(layout=FigureLayout(height='420px'))"
      ]
     },
     "metadata": {},
     "output_type": "display_data"
    }
   ],
   "source": [
    "# Heatmap of percent wind speeds\n",
    "locations = city_data_df[[\"Lat\", \"Lng\"]]\n",
    "wind = city_data_df[\"Wind Speed\"]\n",
    "fig = gmaps.figure(center=(30.0, 31.0), zoom_level=1.5)\n",
    "heat_layer = gmaps.heatmap_layer(locations, weights=wind, dissipating=False, max_intensity=300, point_radius=4)\n",
    "\n",
    "fig.add_layer(heat_layer)\n",
    "# Call the figure to plot the data.\n",
    "\n",
    "fig"
   ]
  },
  {
   "cell_type": "code",
   "execution_count": 28,
   "id": "61b20353",
   "metadata": {},
   "outputs": [
    {
     "name": "stdout",
     "output_type": "stream",
     "text": [
      "What is the minimum temperature you would like for your trip? 75\n",
      "What is the maximum temperature you would like for your trip? 90\n"
     ]
    }
   ],
   "source": [
    "# Ask the customer to add a minimum and maximum temperature value.\n",
    "min_temp = float(input(\"What is the minimum temperature you would like for your trip? \"))\n",
    "max_temp = float(input(\"What is the maximum temperature you would like for your trip? \"))"
   ]
  },
  {
   "cell_type": "code",
   "execution_count": 29,
   "id": "7fb4f016",
   "metadata": {},
   "outputs": [
    {
     "data": {
      "text/html": [
       "<div>\n",
       "<style scoped>\n",
       "    .dataframe tbody tr th:only-of-type {\n",
       "        vertical-align: middle;\n",
       "    }\n",
       "\n",
       "    .dataframe tbody tr th {\n",
       "        vertical-align: top;\n",
       "    }\n",
       "\n",
       "    .dataframe thead th {\n",
       "        text-align: right;\n",
       "    }\n",
       "</style>\n",
       "<table border=\"1\" class=\"dataframe\">\n",
       "  <thead>\n",
       "    <tr style=\"text-align: right;\">\n",
       "      <th></th>\n",
       "      <th>City_ID</th>\n",
       "      <th>City</th>\n",
       "      <th>Country</th>\n",
       "      <th>Date</th>\n",
       "      <th>Lat</th>\n",
       "      <th>Lng</th>\n",
       "      <th>Max Temp</th>\n",
       "      <th>Humidity</th>\n",
       "      <th>Cloudiness</th>\n",
       "      <th>Wind Speed</th>\n",
       "    </tr>\n",
       "  </thead>\n",
       "  <tbody>\n",
       "    <tr>\n",
       "      <th>2</th>\n",
       "      <td>2</td>\n",
       "      <td>Avarua</td>\n",
       "      <td>CK</td>\n",
       "      <td>2022-07-23 04:54:42</td>\n",
       "      <td>-21.2078</td>\n",
       "      <td>-159.7750</td>\n",
       "      <td>75.25</td>\n",
       "      <td>69</td>\n",
       "      <td>20</td>\n",
       "      <td>9.22</td>\n",
       "    </tr>\n",
       "    <tr>\n",
       "      <th>6</th>\n",
       "      <td>6</td>\n",
       "      <td>Kurchum</td>\n",
       "      <td>KZ</td>\n",
       "      <td>2022-07-23 04:54:45</td>\n",
       "      <td>48.5722</td>\n",
       "      <td>83.6542</td>\n",
       "      <td>80.15</td>\n",
       "      <td>27</td>\n",
       "      <td>67</td>\n",
       "      <td>12.21</td>\n",
       "    </tr>\n",
       "    <tr>\n",
       "      <th>8</th>\n",
       "      <td>8</td>\n",
       "      <td>Bilma</td>\n",
       "      <td>NE</td>\n",
       "      <td>2022-07-23 04:54:46</td>\n",
       "      <td>18.6853</td>\n",
       "      <td>12.9164</td>\n",
       "      <td>88.05</td>\n",
       "      <td>36</td>\n",
       "      <td>48</td>\n",
       "      <td>5.79</td>\n",
       "    </tr>\n",
       "    <tr>\n",
       "      <th>14</th>\n",
       "      <td>14</td>\n",
       "      <td>Georgetown</td>\n",
       "      <td>MY</td>\n",
       "      <td>2022-07-23 04:54:48</td>\n",
       "      <td>5.4112</td>\n",
       "      <td>100.3354</td>\n",
       "      <td>85.98</td>\n",
       "      <td>78</td>\n",
       "      <td>40</td>\n",
       "      <td>5.75</td>\n",
       "    </tr>\n",
       "    <tr>\n",
       "      <th>16</th>\n",
       "      <td>16</td>\n",
       "      <td>Morristown</td>\n",
       "      <td>US</td>\n",
       "      <td>2022-07-23 04:54:49</td>\n",
       "      <td>36.2140</td>\n",
       "      <td>-83.2949</td>\n",
       "      <td>77.05</td>\n",
       "      <td>77</td>\n",
       "      <td>75</td>\n",
       "      <td>0.00</td>\n",
       "    </tr>\n",
       "    <tr>\n",
       "      <th>17</th>\n",
       "      <td>17</td>\n",
       "      <td>Monrovia</td>\n",
       "      <td>LR</td>\n",
       "      <td>2022-07-23 04:54:50</td>\n",
       "      <td>6.3005</td>\n",
       "      <td>-10.7969</td>\n",
       "      <td>75.74</td>\n",
       "      <td>79</td>\n",
       "      <td>99</td>\n",
       "      <td>7.76</td>\n",
       "    </tr>\n",
       "    <tr>\n",
       "      <th>27</th>\n",
       "      <td>27</td>\n",
       "      <td>Kawalu</td>\n",
       "      <td>ID</td>\n",
       "      <td>2022-07-23 04:54:53</td>\n",
       "      <td>-7.3817</td>\n",
       "      <td>108.2082</td>\n",
       "      <td>76.57</td>\n",
       "      <td>85</td>\n",
       "      <td>99</td>\n",
       "      <td>3.44</td>\n",
       "    </tr>\n",
       "    <tr>\n",
       "      <th>34</th>\n",
       "      <td>34</td>\n",
       "      <td>South Venice</td>\n",
       "      <td>US</td>\n",
       "      <td>2022-07-23 04:54:56</td>\n",
       "      <td>27.0531</td>\n",
       "      <td>-82.4243</td>\n",
       "      <td>77.99</td>\n",
       "      <td>96</td>\n",
       "      <td>0</td>\n",
       "      <td>6.91</td>\n",
       "    </tr>\n",
       "    <tr>\n",
       "      <th>40</th>\n",
       "      <td>40</td>\n",
       "      <td>Yuncheng</td>\n",
       "      <td>CN</td>\n",
       "      <td>2022-07-23 04:54:58</td>\n",
       "      <td>35.0231</td>\n",
       "      <td>110.9928</td>\n",
       "      <td>83.80</td>\n",
       "      <td>47</td>\n",
       "      <td>1</td>\n",
       "      <td>2.98</td>\n",
       "    </tr>\n",
       "    <tr>\n",
       "      <th>41</th>\n",
       "      <td>41</td>\n",
       "      <td>Butaritari</td>\n",
       "      <td>KI</td>\n",
       "      <td>2022-07-23 04:54:59</td>\n",
       "      <td>3.0707</td>\n",
       "      <td>172.7902</td>\n",
       "      <td>81.72</td>\n",
       "      <td>77</td>\n",
       "      <td>52</td>\n",
       "      <td>10.69</td>\n",
       "    </tr>\n",
       "  </tbody>\n",
       "</table>\n",
       "</div>"
      ],
      "text/plain": [
       "    City_ID          City Country                 Date      Lat       Lng  \\\n",
       "2         2        Avarua      CK  2022-07-23 04:54:42 -21.2078 -159.7750   \n",
       "6         6       Kurchum      KZ  2022-07-23 04:54:45  48.5722   83.6542   \n",
       "8         8         Bilma      NE  2022-07-23 04:54:46  18.6853   12.9164   \n",
       "14       14    Georgetown      MY  2022-07-23 04:54:48   5.4112  100.3354   \n",
       "16       16    Morristown      US  2022-07-23 04:54:49  36.2140  -83.2949   \n",
       "17       17      Monrovia      LR  2022-07-23 04:54:50   6.3005  -10.7969   \n",
       "27       27        Kawalu      ID  2022-07-23 04:54:53  -7.3817  108.2082   \n",
       "34       34  South Venice      US  2022-07-23 04:54:56  27.0531  -82.4243   \n",
       "40       40      Yuncheng      CN  2022-07-23 04:54:58  35.0231  110.9928   \n",
       "41       41    Butaritari      KI  2022-07-23 04:54:59   3.0707  172.7902   \n",
       "\n",
       "    Max Temp  Humidity  Cloudiness  Wind Speed  \n",
       "2      75.25        69          20        9.22  \n",
       "6      80.15        27          67       12.21  \n",
       "8      88.05        36          48        5.79  \n",
       "14     85.98        78          40        5.75  \n",
       "16     77.05        77          75        0.00  \n",
       "17     75.74        79          99        7.76  \n",
       "27     76.57        85          99        3.44  \n",
       "34     77.99        96           0        6.91  \n",
       "40     83.80        47           1        2.98  \n",
       "41     81.72        77          52       10.69  "
      ]
     },
     "execution_count": 29,
     "metadata": {},
     "output_type": "execute_result"
    }
   ],
   "source": [
    "# Filter the dataset to find the cities that fit the criteria.\n",
    "preferred_cities_df = city_data_df.loc[(city_data_df[\"Max Temp\"] <= max_temp) & \\\n",
    "                                       (city_data_df[\"Max Temp\"] >= min_temp)]\n",
    "preferred_cities_df.head(10)"
   ]
  },
  {
   "cell_type": "code",
   "execution_count": 30,
   "id": "44a11ced",
   "metadata": {},
   "outputs": [
    {
     "data": {
      "text/plain": [
       "City_ID       194\n",
       "City          194\n",
       "Country       194\n",
       "Date          194\n",
       "Lat           194\n",
       "Lng           194\n",
       "Max Temp      194\n",
       "Humidity      194\n",
       "Cloudiness    194\n",
       "Wind Speed    194\n",
       "dtype: int64"
      ]
     },
     "execution_count": 30,
     "metadata": {},
     "output_type": "execute_result"
    }
   ],
   "source": [
    "preferred_cities_df.count()"
   ]
  },
  {
   "cell_type": "code",
   "execution_count": 31,
   "id": "92634498",
   "metadata": {},
   "outputs": [
    {
     "data": {
      "text/html": [
       "<div>\n",
       "<style scoped>\n",
       "    .dataframe tbody tr th:only-of-type {\n",
       "        vertical-align: middle;\n",
       "    }\n",
       "\n",
       "    .dataframe tbody tr th {\n",
       "        vertical-align: top;\n",
       "    }\n",
       "\n",
       "    .dataframe thead th {\n",
       "        text-align: right;\n",
       "    }\n",
       "</style>\n",
       "<table border=\"1\" class=\"dataframe\">\n",
       "  <thead>\n",
       "    <tr style=\"text-align: right;\">\n",
       "      <th></th>\n",
       "      <th>City</th>\n",
       "      <th>Country</th>\n",
       "      <th>Max Temp</th>\n",
       "      <th>Lat</th>\n",
       "      <th>Lng</th>\n",
       "      <th>Hotel Name</th>\n",
       "    </tr>\n",
       "  </thead>\n",
       "  <tbody>\n",
       "    <tr>\n",
       "      <th>2</th>\n",
       "      <td>Avarua</td>\n",
       "      <td>CK</td>\n",
       "      <td>75.25</td>\n",
       "      <td>-21.2078</td>\n",
       "      <td>-159.7750</td>\n",
       "      <td></td>\n",
       "    </tr>\n",
       "    <tr>\n",
       "      <th>6</th>\n",
       "      <td>Kurchum</td>\n",
       "      <td>KZ</td>\n",
       "      <td>80.15</td>\n",
       "      <td>48.5722</td>\n",
       "      <td>83.6542</td>\n",
       "      <td></td>\n",
       "    </tr>\n",
       "    <tr>\n",
       "      <th>8</th>\n",
       "      <td>Bilma</td>\n",
       "      <td>NE</td>\n",
       "      <td>88.05</td>\n",
       "      <td>18.6853</td>\n",
       "      <td>12.9164</td>\n",
       "      <td></td>\n",
       "    </tr>\n",
       "    <tr>\n",
       "      <th>14</th>\n",
       "      <td>Georgetown</td>\n",
       "      <td>MY</td>\n",
       "      <td>85.98</td>\n",
       "      <td>5.4112</td>\n",
       "      <td>100.3354</td>\n",
       "      <td></td>\n",
       "    </tr>\n",
       "    <tr>\n",
       "      <th>16</th>\n",
       "      <td>Morristown</td>\n",
       "      <td>US</td>\n",
       "      <td>77.05</td>\n",
       "      <td>36.2140</td>\n",
       "      <td>-83.2949</td>\n",
       "      <td></td>\n",
       "    </tr>\n",
       "    <tr>\n",
       "      <th>17</th>\n",
       "      <td>Monrovia</td>\n",
       "      <td>LR</td>\n",
       "      <td>75.74</td>\n",
       "      <td>6.3005</td>\n",
       "      <td>-10.7969</td>\n",
       "      <td></td>\n",
       "    </tr>\n",
       "    <tr>\n",
       "      <th>27</th>\n",
       "      <td>Kawalu</td>\n",
       "      <td>ID</td>\n",
       "      <td>76.57</td>\n",
       "      <td>-7.3817</td>\n",
       "      <td>108.2082</td>\n",
       "      <td></td>\n",
       "    </tr>\n",
       "    <tr>\n",
       "      <th>34</th>\n",
       "      <td>South Venice</td>\n",
       "      <td>US</td>\n",
       "      <td>77.99</td>\n",
       "      <td>27.0531</td>\n",
       "      <td>-82.4243</td>\n",
       "      <td></td>\n",
       "    </tr>\n",
       "    <tr>\n",
       "      <th>40</th>\n",
       "      <td>Yuncheng</td>\n",
       "      <td>CN</td>\n",
       "      <td>83.80</td>\n",
       "      <td>35.0231</td>\n",
       "      <td>110.9928</td>\n",
       "      <td></td>\n",
       "    </tr>\n",
       "    <tr>\n",
       "      <th>41</th>\n",
       "      <td>Butaritari</td>\n",
       "      <td>KI</td>\n",
       "      <td>81.72</td>\n",
       "      <td>3.0707</td>\n",
       "      <td>172.7902</td>\n",
       "      <td></td>\n",
       "    </tr>\n",
       "  </tbody>\n",
       "</table>\n",
       "</div>"
      ],
      "text/plain": [
       "            City Country  Max Temp      Lat       Lng Hotel Name\n",
       "2         Avarua      CK     75.25 -21.2078 -159.7750           \n",
       "6        Kurchum      KZ     80.15  48.5722   83.6542           \n",
       "8          Bilma      NE     88.05  18.6853   12.9164           \n",
       "14    Georgetown      MY     85.98   5.4112  100.3354           \n",
       "16    Morristown      US     77.05  36.2140  -83.2949           \n",
       "17      Monrovia      LR     75.74   6.3005  -10.7969           \n",
       "27        Kawalu      ID     76.57  -7.3817  108.2082           \n",
       "34  South Venice      US     77.99  27.0531  -82.4243           \n",
       "40      Yuncheng      CN     83.80  35.0231  110.9928           \n",
       "41    Butaritari      KI     81.72   3.0707  172.7902           "
      ]
     },
     "execution_count": 31,
     "metadata": {},
     "output_type": "execute_result"
    }
   ],
   "source": [
    "# Create DataFrame called hotel_df to store hotel names along with city, country, max temp, and coordinates.\n",
    "hotel_df = preferred_cities_df[[\"City\", \"Country\", \"Max Temp\", \"Lat\", \"Lng\"]].copy()\n",
    "hotel_df[\"Hotel Name\"] = \"\"\n",
    "hotel_df.head(10)"
   ]
  },
  {
   "cell_type": "code",
   "execution_count": 34,
   "id": "19ce3cd7",
   "metadata": {},
   "outputs": [],
   "source": [
    "# Set parameters to search for a hotel.\n",
    "params = {\n",
    "    \"radius\": 5000,\n",
    "    \"type\": \"lodging\",\n",
    "    \"key\": g_key\n",
    "}\n",
    "\n",
    "# Iterate through the DataFrame.\n",
    "for index, row in hotel_df.iterrows():\n",
    "    # Get the latitude and longitude.\n",
    "    lat = row[\"Lat\"]\n",
    "    lng = row[\"Lng\"]\n",
    "\n",
    "    # Add the latitude and longitude to location key for the params dictionary.\n",
    "    params[\"location\"] = f\"{lat},{lng}\"\n",
    "\n",
    "    # Use the search term: \"lodging\" and our latitude and longitude.\n",
    "    base_url = \"https://maps.googleapis.com/maps/api/place/nearbysearch/json\"\n",
    "    # Make request and get the JSON data from the search.\n",
    "    hotels = requests.get(base_url, params=params).json()\n",
    "    # Grab the first hotel from the results and store the name.\n",
    "   # will give error --- >   hotel_df.loc[index, \"Hotel Name\"] = hotels[\"results\"][0][\"name\"]\n",
    "try:\n",
    "    hotel_df.loc[index, \"Hotel Name\"] = hotels[\"results\"][0][\"name\"]\n",
    "except (IndexError):\n",
    "    print(\"Hotel not found... skipping.\")"
   ]
  },
  {
   "cell_type": "code",
   "execution_count": 35,
   "id": "ce8c7058",
   "metadata": {},
   "outputs": [
    {
     "data": {
      "text/html": [
       "<div>\n",
       "<style scoped>\n",
       "    .dataframe tbody tr th:only-of-type {\n",
       "        vertical-align: middle;\n",
       "    }\n",
       "\n",
       "    .dataframe tbody tr th {\n",
       "        vertical-align: top;\n",
       "    }\n",
       "\n",
       "    .dataframe thead th {\n",
       "        text-align: right;\n",
       "    }\n",
       "</style>\n",
       "<table border=\"1\" class=\"dataframe\">\n",
       "  <thead>\n",
       "    <tr style=\"text-align: right;\">\n",
       "      <th></th>\n",
       "      <th>City</th>\n",
       "      <th>Country</th>\n",
       "      <th>Max Temp</th>\n",
       "      <th>Lat</th>\n",
       "      <th>Lng</th>\n",
       "      <th>Hotel Name</th>\n",
       "    </tr>\n",
       "  </thead>\n",
       "  <tbody>\n",
       "    <tr>\n",
       "      <th>2</th>\n",
       "      <td>Avarua</td>\n",
       "      <td>CK</td>\n",
       "      <td>75.25</td>\n",
       "      <td>-21.2078</td>\n",
       "      <td>-159.7750</td>\n",
       "      <td></td>\n",
       "    </tr>\n",
       "    <tr>\n",
       "      <th>6</th>\n",
       "      <td>Kurchum</td>\n",
       "      <td>KZ</td>\n",
       "      <td>80.15</td>\n",
       "      <td>48.5722</td>\n",
       "      <td>83.6542</td>\n",
       "      <td></td>\n",
       "    </tr>\n",
       "    <tr>\n",
       "      <th>8</th>\n",
       "      <td>Bilma</td>\n",
       "      <td>NE</td>\n",
       "      <td>88.05</td>\n",
       "      <td>18.6853</td>\n",
       "      <td>12.9164</td>\n",
       "      <td></td>\n",
       "    </tr>\n",
       "    <tr>\n",
       "      <th>14</th>\n",
       "      <td>Georgetown</td>\n",
       "      <td>MY</td>\n",
       "      <td>85.98</td>\n",
       "      <td>5.4112</td>\n",
       "      <td>100.3354</td>\n",
       "      <td></td>\n",
       "    </tr>\n",
       "    <tr>\n",
       "      <th>16</th>\n",
       "      <td>Morristown</td>\n",
       "      <td>US</td>\n",
       "      <td>77.05</td>\n",
       "      <td>36.2140</td>\n",
       "      <td>-83.2949</td>\n",
       "      <td></td>\n",
       "    </tr>\n",
       "    <tr>\n",
       "      <th>17</th>\n",
       "      <td>Monrovia</td>\n",
       "      <td>LR</td>\n",
       "      <td>75.74</td>\n",
       "      <td>6.3005</td>\n",
       "      <td>-10.7969</td>\n",
       "      <td></td>\n",
       "    </tr>\n",
       "    <tr>\n",
       "      <th>27</th>\n",
       "      <td>Kawalu</td>\n",
       "      <td>ID</td>\n",
       "      <td>76.57</td>\n",
       "      <td>-7.3817</td>\n",
       "      <td>108.2082</td>\n",
       "      <td></td>\n",
       "    </tr>\n",
       "    <tr>\n",
       "      <th>34</th>\n",
       "      <td>South Venice</td>\n",
       "      <td>US</td>\n",
       "      <td>77.99</td>\n",
       "      <td>27.0531</td>\n",
       "      <td>-82.4243</td>\n",
       "      <td></td>\n",
       "    </tr>\n",
       "    <tr>\n",
       "      <th>40</th>\n",
       "      <td>Yuncheng</td>\n",
       "      <td>CN</td>\n",
       "      <td>83.80</td>\n",
       "      <td>35.0231</td>\n",
       "      <td>110.9928</td>\n",
       "      <td></td>\n",
       "    </tr>\n",
       "    <tr>\n",
       "      <th>41</th>\n",
       "      <td>Butaritari</td>\n",
       "      <td>KI</td>\n",
       "      <td>81.72</td>\n",
       "      <td>3.0707</td>\n",
       "      <td>172.7902</td>\n",
       "      <td></td>\n",
       "    </tr>\n",
       "  </tbody>\n",
       "</table>\n",
       "</div>"
      ],
      "text/plain": [
       "            City Country  Max Temp      Lat       Lng Hotel Name\n",
       "2         Avarua      CK     75.25 -21.2078 -159.7750           \n",
       "6        Kurchum      KZ     80.15  48.5722   83.6542           \n",
       "8          Bilma      NE     88.05  18.6853   12.9164           \n",
       "14    Georgetown      MY     85.98   5.4112  100.3354           \n",
       "16    Morristown      US     77.05  36.2140  -83.2949           \n",
       "17      Monrovia      LR     75.74   6.3005  -10.7969           \n",
       "27        Kawalu      ID     76.57  -7.3817  108.2082           \n",
       "34  South Venice      US     77.99  27.0531  -82.4243           \n",
       "40      Yuncheng      CN     83.80  35.0231  110.9928           \n",
       "41    Butaritari      KI     81.72   3.0707  172.7902           "
      ]
     },
     "execution_count": 35,
     "metadata": {},
     "output_type": "execute_result"
    }
   ],
   "source": [
    "hotel_df.head(10)"
   ]
  },
  {
   "cell_type": "code",
   "execution_count": 36,
   "id": "8ce857da",
   "metadata": {},
   "outputs": [
    {
     "data": {
      "application/vnd.jupyter.widget-view+json": {
       "model_id": "9a15bffc592e4c7297979602b78c37c8",
       "version_major": 2,
       "version_minor": 0
      },
      "text/plain": [
       "Figure(layout=FigureLayout(height='420px'))"
      ]
     },
     "metadata": {},
     "output_type": "display_data"
    }
   ],
   "source": [
    "# Add a heatmap of temperature for the vacation spots.\n",
    "locations = hotel_df[[\"Lat\", \"Lng\"]]\n",
    "max_temp = hotel_df[\"Max Temp\"]\n",
    "fig = gmaps.figure(center=(30.0, 31.0), zoom_level=1.5)\n",
    "heat_layer = gmaps.heatmap_layer(locations, weights=max_temp, dissipating=False,\n",
    "             max_intensity=300, point_radius=4)\n",
    "\n",
    "fig.add_layer(heat_layer)\n",
    "# Call the figure to plot the data.\n",
    "fig"
   ]
  },
  {
   "cell_type": "code",
   "execution_count": 37,
   "id": "3858fd1d",
   "metadata": {},
   "outputs": [
    {
     "data": {
      "application/vnd.jupyter.widget-view+json": {
       "model_id": "4afa1aaf58114225b63eb72d1042c429",
       "version_major": 2,
       "version_minor": 0
      },
      "text/plain": [
       "Figure(layout=FigureLayout(height='420px'))"
      ]
     },
     "metadata": {},
     "output_type": "display_data"
    }
   ],
   "source": [
    "# Add a heatmap of temperature for the vacation spots and marker for each city.\n",
    "locations = hotel_df[[\"Lat\", \"Lng\"]]\n",
    "max_temp = hotel_df[\"Max Temp\"]\n",
    "fig = gmaps.figure(center=(30.0, 31.0), zoom_level=1.5)\n",
    "heat_layer = gmaps.heatmap_layer(locations, weights=max_temp,\n",
    "             dissipating=False, max_intensity=300, point_radius=4)\n",
    "marker_layer = gmaps.marker_layer(locations)\n",
    "fig.add_layer(heat_layer)\n",
    "fig.add_layer(marker_layer)\n",
    "# Call the figure to plot the data.\n",
    "fig"
   ]
  },
  {
   "cell_type": "code",
   "execution_count": 38,
   "id": "903d860f",
   "metadata": {},
   "outputs": [],
   "source": [
    "#info_box_template = \"\"\"\n",
    "#<dl>\n",
    "#<dt>Name</dt><dd>{column1}</dd>\n",
    "#<dt>Another name</dt><dd>{column2}</dd>\n",
    "#</dl>\n",
    "#\"\"\""
   ]
  },
  {
   "cell_type": "code",
   "execution_count": 39,
   "id": "2d488738",
   "metadata": {},
   "outputs": [],
   "source": [
    "info_box_template = \"\"\"\n",
    "<dl>\n",
    "<dt>Hotel Name</dt><dd>{Hotel Name}</dd>\n",
    "<dt>City</dt><dd>{City}</dd>\n",
    "<dt>Country</dt><dd>{Country}</dd>\n",
    "<dt>Max Temp</dt><dd>{Max Temp} °F</dd>\n",
    "</dl>\n",
    "\"\"\""
   ]
  },
  {
   "cell_type": "code",
   "execution_count": 40,
   "id": "4c0718a4",
   "metadata": {},
   "outputs": [],
   "source": [
    "# Store the DataFrame Row.\n",
    "hotel_info = [info_box_template.format(**row) for index, row in hotel_df.iterrows()]"
   ]
  },
  {
   "cell_type": "code",
   "execution_count": 42,
   "id": "49d6d8b0",
   "metadata": {},
   "outputs": [],
   "source": [
    "#Next, in the code we used to create the heatmap with markers, \n",
    "#add info_box_content=hotel_info to the gmaps.marker_layer() attribute with the locations. \n",
    "#Our final cell should look like the following."
   ]
  },
  {
   "cell_type": "code",
   "execution_count": 43,
   "id": "fb10a8e0",
   "metadata": {},
   "outputs": [
    {
     "data": {
      "application/vnd.jupyter.widget-view+json": {
       "model_id": "b4ae8946c7194f598f8abd1526d46ac3",
       "version_major": 2,
       "version_minor": 0
      },
      "text/plain": [
       "Figure(layout=FigureLayout(height='420px'))"
      ]
     },
     "metadata": {},
     "output_type": "display_data"
    }
   ],
   "source": [
    "# Add a heatmap of temperature for the vacation spots and a pop-up marker for each city. \n",
    "locations = hotel_df[[\"Lat\", \"Lng\"]]\n",
    "max_temp = hotel_df[\"Max Temp\"]\n",
    "fig = gmaps.figure(center=(30.0, 31.0), zoom_level=1.5)\n",
    "heat_layer = gmaps.heatmap_layer(locations, weights=max_temp,dissipating=False,\n",
    "             max_intensity=300, point_radius=4)\n",
    "marker_layer = gmaps.marker_layer(locations, info_box_content=hotel_info)\n",
    "fig.add_layer(heat_layer)\n",
    "fig.add_layer(marker_layer)\n",
    "\n",
    "# Call the figure to plot the data.\n",
    "fig"
   ]
  },
  {
   "cell_type": "code",
   "execution_count": null,
   "id": "3219e4d6",
   "metadata": {},
   "outputs": [],
   "source": []
  }
 ],
 "metadata": {
  "kernelspec": {
   "display_name": "PythonData",
   "language": "python",
   "name": "pythondata"
  },
  "language_info": {
   "codemirror_mode": {
    "name": "ipython",
    "version": 3
   },
   "file_extension": ".py",
   "mimetype": "text/x-python",
   "name": "python",
   "nbconvert_exporter": "python",
   "pygments_lexer": "ipython3",
   "version": "3.7.13"
  }
 },
 "nbformat": 4,
 "nbformat_minor": 5
}
